{
 "cells": [
  {
   "cell_type": "code",
   "execution_count": null,
   "id": "13ef8ce1-2192-49c5-a4e8-899222b8814e",
   "metadata": {},
   "outputs": [],
   "source": [
    "'''\n",
    "Q1. What is an API? Give an example, where an API is used in real life.\n",
    "'''\n",
    "API -API is stands for  application programming interface \n",
    "1.travel bokkig\n",
    "2.blogging\n",
    "3.wether \n",
    "4.Restuaraunt \n",
    "5.Google map\n",
    "6.Twitter bot "
   ]
  },
  {
   "cell_type": "code",
   "execution_count": null,
   "id": "9bc5e8af-b1f5-420d-bcfd-baafbd89bc63",
   "metadata": {},
   "outputs": [],
   "source": [
    "'''\n",
    "Q2. Give advantages and disadvantages of using API.\n",
    "'''\n",
    "Advantages:\n",
    "1.It supports non-soap based services like xml or json string.(MediaTypeFormatter)\n",
    "2.Supports full features of HTTP (like Get,Put,Post,Delete for CRUD operations).\n",
    "3.Widely supported clients like browsers and mobiles.\n",
    "4.can be hosted in IIS or outside of IIS(self hosted).\n",
    "5.Supports routing.\n",
    "6.Supports OData.\n",
    "\n",
    "Disadvantages\n",
    "1.Bound by constraints. Rest APIs are by and large bound by six architectural constraints which include the uniform interface,\n",
    "   the client-server based nature, stateless operations, layered system architecture, etc.\n",
    "2.Learning curve for new developers. \n",
    "3.Lacks security. \n",
    "4.Limited transfer protocol support."
   ]
  },
  {
   "cell_type": "code",
   "execution_count": null,
   "id": "146ee7f1-9db8-46f4-b7be-aed0eaf0c82a",
   "metadata": {},
   "outputs": [],
   "source": [
    "'''\n",
    "Q3. What is a Web API? Differentiate between API and Web API.\n",
    "'''\n",
    "Web api: \n",
    "    A web API is an application programming interface for either a web server or a web browser. \n",
    "    It is a web development concept, usually limited to a web application's client-side\n",
    "\n",
    "APIs and Web Services: Similar, but Not Identical\n",
    "API is an interface that exposes an application's data to outside software, \n",
    "web applications are one type of API with stricter requirements. These requirements include network communication,"
   ]
  },
  {
   "cell_type": "code",
   "execution_count": null,
   "id": "cc09890b-4304-4c79-b16f-c7d8312f1238",
   "metadata": {},
   "outputs": [],
   "source": [
    "'''\n",
    "Q4. Explain REST and SOAP Architecture. Mention shortcomings of SOAP.\n",
    "'''\n",
    "1.\n",
    "SOAP is a protocol whereas \n",
    "REST is an architectural pattern.\n",
    "\n",
    "2.\n",
    "SOAP uses service interfaces to expose its functionality to client applications while\n",
    "REST uses Uniform Service locators to access to the components on the hardware device. \n",
    "\n",
    "3.\n",
    "SOAP needs more bandwidth for its usage \n",
    "REST doesn't need much bandwidth."
   ]
  },
  {
   "cell_type": "code",
   "execution_count": null,
   "id": "1045fcb9-3316-40a3-aea3-ddb05745ec9b",
   "metadata": {},
   "outputs": [],
   "source": [
    "'''\n",
    "Q5. Differentiate between REST and SOAP.\n",
    "'''\n",
    "1.Full form:\n",
    "SOAP:    It stands for Simple Object Access Protocol\t\n",
    "REST:    It stands for REpresentational State Transfer.\n",
    "\n",
    "2.Design\t\n",
    "SOAP: It is a standardized protocol for pre-defined rules to follow.\t\n",
    "REST: It has an architectural style with loose guidelines.\n",
    "\n",
    "3.Statefulness:\n",
    "SOAP:SOAP is by default stateless, but it is possible to make this API stateful.\t\n",
    "REST:It is stateful, i.e. no server-side sessions occur.\n",
    "\n",
    "4.CachinG \n",
    "SOAP:SOAP API calls cannot be cached.\t\n",
    "REST:REST API calls can be cached.\n",
    "\n",
    "5.Transfer Protocol\t\n",
    "SOAP:It works on HTTP, SMP, UDP, etc. So \n",
    "REST:it is recommended\tIt only works on HTTPS."
   ]
  }
 ],
 "metadata": {
  "kernelspec": {
   "display_name": "Python 3 (ipykernel)",
   "language": "python",
   "name": "python3"
  },
  "language_info": {
   "codemirror_mode": {
    "name": "ipython",
    "version": 3
   },
   "file_extension": ".py",
   "mimetype": "text/x-python",
   "name": "python",
   "nbconvert_exporter": "python",
   "pygments_lexer": "ipython3",
   "version": "3.10.8"
  }
 },
 "nbformat": 4,
 "nbformat_minor": 5
}
